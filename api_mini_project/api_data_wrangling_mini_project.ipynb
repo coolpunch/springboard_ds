{
 "cells": [
  {
   "cell_type": "markdown",
   "metadata": {},
   "source": [
    "This exercise will require you to pull some data from the Qunadl API. Qaundl is currently the most widely used aggregator of financial market data."
   ]
  },
  {
   "cell_type": "markdown",
   "metadata": {},
   "source": [
    "As a first step, you will need to register a free account on the http://www.quandl.com website."
   ]
  },
  {
   "cell_type": "markdown",
   "metadata": {},
   "source": [
    "After you register, you will be provided with a unique API key, that you should store:"
   ]
  },
  {
   "cell_type": "code",
   "execution_count": 1,
   "metadata": {
    "collapsed": true
   },
   "outputs": [],
   "source": [
    "# Store the API key as a string - according to PEP8, constants are always named in all upper case\n",
    "API_KEY = ''"
   ]
  },
  {
   "cell_type": "markdown",
   "metadata": {},
   "source": [
    "Qaundl has a large number of data sources, but, unfortunately, most of them require a Premium subscription. Still, there are also a good number of free datasets."
   ]
  },
  {
   "cell_type": "markdown",
   "metadata": {},
   "source": [
    "For this mini project, we will focus on equities data from the Frankfurt Stock Exhange (FSE), which is available for free. We'll try and analyze the stock prices of a company called Carl Zeiss Meditec, which manufactures tools for eye examinations, as well as medical lasers for laser eye surgery: https://www.zeiss.com/meditec/int/home.html. The company is listed under the stock ticker AFX_X."
   ]
  },
  {
   "cell_type": "markdown",
   "metadata": {},
   "source": [
    "You can find the detailed Quandl API instructions here: https://docs.quandl.com/docs/time-series"
   ]
  },
  {
   "cell_type": "markdown",
   "metadata": {},
   "source": [
    "While there is a dedicated Python package for connecting to the Quandl API, we would prefer that you use the *requests* package, which can be easily downloaded using *pip* or *conda*. You can find the documentation for the package here: http://docs.python-requests.org/en/master/ "
   ]
  },
  {
   "cell_type": "markdown",
   "metadata": {},
   "source": [
    "Finally, apart from the *requests* package, you are encouraged to not use any third party Python packages, such as *pandas*, and instead focus on what's available in the Python Standard Library (the *collections* module might come in handy: https://pymotw.com/3/collections/ ).\n",
    "Also, since you won't have access to DataFrames, you are encouraged to us Python's native data structures - preferably dictionaries, though some questions can also be answered using lists.\n",
    "You can read more on these data structures here: https://docs.python.org/3/tutorial/datastructures.html"
   ]
  },
  {
   "cell_type": "markdown",
   "metadata": {},
   "source": [
    "Keep in mind that the JSON responses you will be getting from the API map almost one-to-one to Python's dictionaries. Unfortunately, they can be very nested, so make sure you read up on indexing dictionaries in the documentation provided above."
   ]
  },
  {
   "cell_type": "code",
   "execution_count": 2,
   "metadata": {
    "collapsed": true
   },
   "outputs": [],
   "source": [
    "# First, import the relevant modules\n",
    "import requests\n",
    "import collections\n"
   ]
  },
  {
   "cell_type": "code",
   "execution_count": null,
   "metadata": {},
   "outputs": [],
   "source": []
  },
  {
   "cell_type": "code",
   "execution_count": 3,
   "metadata": {},
   "outputs": [],
   "source": [
    "def gen_url(start_date,end_date,api_key,ticker=None):\n",
    "    \"\"\"\n",
    "    Generates the url that can use to retrieve the information on a\n",
    "    particular ticker for frankfurt stock exchange given start and end\n",
    "    date.\n",
    "\n",
    "    start_date: date from which the data is needed\n",
    "    end_date: date till which data is needed\n",
    "    ticker: the ticker for which the data is needed. defaults to AFX_X\n",
    "\n",
    "    start_date and end_date format are 'YYYY-MM-DD'\n",
    "    Warning: the function does not validate the dates\n",
    "\n",
    "    \"\"\"\n",
    "    # locals\n",
    "    _database_name = 'FSE'  # code of frankfurt stock exchange\n",
    "\n",
    "    if not ticker:\n",
    "        _ticker = 'AFX_X'  # ticker of carl zeiss\n",
    "    else:\n",
    "        _ticker = ticker\n",
    "\n",
    "    begin_url =  'https://www.quandl.com/api/v3/datasets/'\n",
    "    \n",
    "    url = '{}{}/{}/data.json?start_date={}&end_date={}&api_key={}'.format(begin_url,_database_name,_ticker,start_date,end_date,api_key)\n",
    "\n",
    "    return url"
   ]
  },
  {
   "cell_type": "code",
   "execution_count": 4,
   "metadata": {
    "collapsed": true,
    "tags": []
   },
   "outputs": [],
   "source": [
    "# Now, call the Quandl API and pull out a small sample of the data (only one day) to get a glimpse\n",
    "# into the JSON structure that will be returned\n",
    "\n",
    "# getting url for one day (2020-02-19)\n",
    "url = gen_url('2020-01-01','2020-01-08', API_KEY)\n",
    "\n",
    "# creating response connection\n",
    "resp = requests.get(url)\n",
    "\n",
    "if resp:\n",
    "    resp_json = resp.json()\n",
    "else:\n",
    "    print('FATAL: Can not Fetch url')\n",
    "    resp_json = {}"
   ]
  },
  {
   "cell_type": "code",
   "execution_count": 5,
   "metadata": {
    "collapsed": true
   },
   "outputs": [
    {
     "output_type": "stream",
     "name": "stdout",
     "text": [
      "type: <type 'dict'>\nkey list: [u'dataset_data']\n\n-----------------------\n{u'column_names': [u'Date', u'Open', u'High', u'Low', u'Close', u'Change', u'Traded Volume', u'Turnover', u'Last Price of the Day', u'Daily Traded Units', u'Daily Turnover'], u'collapse': None, u'end_date': u'2020-01-08', u'transform': None, u'order': None, u'frequency': u'daily', u'limit': None, u'column_index': None, u'data': [[u'2020-01-08', 114.2, 116.8, 114.0, 116.4, None, 82884.0, 9602366.0, None, None, None], [u'2020-01-07', 114.4, 116.9, 114.3, 114.9, None, 98974.0, 11431904.0, None, None, None], [u'2020-01-06', 112.0, 114.3, 111.7, 114.0, None, 95697.0, 10844169.0, None, None, None], [u'2020-01-03', 112.8, 113.4, 112.0, 113.4, None, 82304.0, 9289987.0, None, None, None], [u'2020-01-02', 114.0, 114.9, 112.7, 113.8, None, 143464.0, 16291666.0, None, None, None]], u'start_date': u'2020-01-01'}\n-----------------------\n\n-----------------------\nKeys in neseted dict\n[u'column_names', u'collapse', u'end_date', u'transform', u'order', u'frequency', u'limit', u'column_index', u'data', u'start_date']\n"
     ]
    }
   ],
   "source": [
    "# Inspect the JSON structure of the object you created, and take note of how nested it is,\n",
    "# as well as the overall structure\n",
    "\n",
    "# inspecting data \n",
    "# type\n",
    "print('type: {}'.format(type(resp_json)))\n",
    "\n",
    "# list of keys\n",
    "print('key list: {}'.format(list(resp_json.keys())))\n",
    "\n",
    "# what is the value of the only key?\n",
    "print('\\n-----------------------')\n",
    "print(resp_json['dataset_data'])\n",
    "print('-----------------------')\n",
    "\n",
    "# another dict. nested dict and that contains the actual data\n",
    "print('\\n-----------------------')\n",
    "print('Keys in neseted dict')\n",
    "print(resp_json['dataset_data'].keys())\n",
    "\n",
    "# for the next activity we need column_names and data keys and their values"
   ]
  },
  {
   "cell_type": "code",
   "execution_count": 6,
   "metadata": {},
   "outputs": [],
   "source": [
    "def process_raw_json(raw_json):\n",
    "\n",
    "    # locals\n",
    "    temp_dict = collections.defaultdict(list)\n",
    "\n",
    "    raw_dict = raw_json['dataset_data']\n",
    "\n",
    "    # columns \n",
    "    _columns = raw_dict['column_names']\n",
    "\n",
    "    # stock data\n",
    "    _data = raw_dict['data']\n",
    "\n",
    "    # converting the data into processed format\n",
    "    # what is done here is basically taking each column names \n",
    "    # from the columns and making them as a key and then taking \n",
    "    # the data and setting that as the value for the respective \n",
    "    # key\n",
    "    for key, value in zip(_columns,zip(*_data)):\n",
    "        temp_dict[key] = value\n",
    "\n",
    "    return dict(temp_dict)"
   ]
  },
  {
   "cell_type": "markdown",
   "metadata": {},
   "source": [
    "These are your tasks for this mini project:\n",
    "\n",
    "1. Collect data from the Franfurt Stock Exchange, for the ticker AFX_X, for the whole year 2017 (keep in mind that the date format is YYYY-MM-DD).\n",
    "2. Convert the returned JSON object into a Python dictionary.\n",
    "3. Calculate what the highest and lowest opening prices were for the stock in this period.\n",
    "4. What was the largest change in any one day (based on High and Low price)?\n",
    "5. What was the largest change between any two days (based on Closing Price)?\n",
    "6. What was the average daily trading volume during this year?\n",
    "7. (Optional) What was the median trading volume during this year. (Note: you may need to implement your own function for calculating the median.)"
   ]
  },
  {
   "cell_type": "code",
   "execution_count": 7,
   "metadata": {
    "collapsed": true
   },
   "outputs": [],
   "source": [
    "# 1 Data collection\n",
    "\n",
    "url = gen_url('2017-01-01','2017-12-31',API_KEY)\n",
    "\n",
    "response = requests.get(url)\n",
    "\n",
    "response_json = response.json()"
   ]
  },
  {
   "cell_type": "code",
   "execution_count": 8,
   "metadata": {},
   "outputs": [],
   "source": [
    "# 2 Convert JSON object to dictionary\n",
    "\n",
    "data_dict = process_raw_json(response_json)"
   ]
  },
  {
   "cell_type": "code",
   "execution_count": 9,
   "metadata": {},
   "outputs": [
    {
     "output_type": "stream",
     "name": "stdout",
     "text": [
      "Highest open price in this period was: 53.11\nLowest open price in this period was: None\nRecitified Lowest open price in this period was: 34.0\n"
     ]
    }
   ],
   "source": [
    "# 3 what is the highest and lowest opening prices for the stock in this period\n",
    "\n",
    "print('Highest open price in this period was: {}'.format(str(max(data_dict['Open']))))\n",
    "\n",
    "print('Lowest open price in this period was: {}'.format(str(min(data_dict['Open']))))\n",
    "\n",
    "# the result is None which is not what we wanted. removing None and Doing the min operation again\n",
    "# filtering all the non null values\n",
    "\n",
    "filtered_open_prc_list = list(filter(lambda x: x!=None , data_dict['Open']))\n",
    "\n",
    "print('Recitified Lowest open price in this period was: {}'.format(str(min(filtered_open_prc_list))))"
   ]
  },
  {
   "cell_type": "code",
   "execution_count": 10,
   "metadata": {},
   "outputs": [
    {
     "output_type": "stream",
     "name": "stdout",
     "text": [
      "Largest change in any one day : 2.81\n"
     ]
    }
   ],
   "source": [
    "# 4 What was the larget change in any one day\n",
    "largest_change_list = [high-low for high,low in zip(data_dict['High'], data_dict['Low'])]\n",
    "print('Largest change in any one day : {}'.format(str(max(largest_change_list))))"
   ]
  },
  {
   "cell_type": "code",
   "execution_count": 11,
   "metadata": {},
   "outputs": [
    {
     "output_type": "stream",
     "name": "stdout",
     "text": [
      "Largest change in any 2 days: 2.56\n"
     ]
    }
   ],
   "source": [
    "# 5 What was the larget change between any two days (based on closing price)\n",
    "larget_change_2_day_list = [data_dict['Close'][i+1] - data_dict['Close'][i] for i in range(len(data_dict['Close'])-1)]\n",
    "\n",
    "# Larget change can be negative or positive \n",
    "largest_change = 0\n",
    "for change in larget_change_2_day_list:\n",
    "    if abs(largest_change) < abs(change):\n",
    "        largest_change = change\n",
    "    else:\n",
    "        pass\n",
    "\n",
    "print('Largest change in any 2 days: {}'.format(str(largest_change)))"
   ]
  },
  {
   "cell_type": "code",
   "execution_count": 12,
   "metadata": {},
   "outputs": [
    {
     "output_type": "stream",
     "name": "stdout",
     "text": [
      "Average daily traded volume during this year(rounded to nearst 2 decimal): 89124.34\n"
     ]
    }
   ],
   "source": [
    "# 6 What wsa the average daily trading volume during this year\n",
    "total_volume_sum = sum(data_dict['Traded Volume'])\n",
    "size_of_traded_vol_list = len(data_dict['Traded Volume'])\n",
    "average = total_volume_sum/size_of_traded_vol_list\n",
    "\n",
    "print('Average daily traded volume during this year(rounded to nearst 2 decimal): {}'.format(str(round(average,2))))"
   ]
  },
  {
   "cell_type": "code",
   "execution_count": 13,
   "metadata": {},
   "outputs": [],
   "source": [
    "# 7 What was the median trading volume during this year\n",
    "# logic is to arrange the number in ascending order\n",
    "def median(list_val):\n",
    "    sorted_list = sorted(list_val)\n",
    "    if len(sorted_list)%2 == 0:   # when length of list is even\n",
    "        index = len(sorted_list)/2\n",
    "        median = (sorted_list[index]+sorted_list[index+1])/2.\n",
    "    else:\n",
    "        index = len(sorted_list)/2\n",
    "        median = sorted_list[index]\n",
    "    \n",
    "    return median"
   ]
  },
  {
   "cell_type": "code",
   "execution_count": 14,
   "metadata": {},
   "outputs": [
    {
     "output_type": "stream",
     "name": "stdout",
     "text": [
      "Median trading volume: 76286.0\n"
     ]
    }
   ],
   "source": [
    "median_volume = median(data_dict['Traded Volume'])\n",
    "\n",
    "print('Median trading volume: {}'.format(median_volume))"
   ]
  }
 ],
 "metadata": {
  "kernelspec": {
   "display_name": "Python 2",
   "language": "python",
   "name": "python2"
  },
  "language_info": {
   "codemirror_mode": {
    "name": "ipython",
    "version": 2
   },
   "file_extension": ".py",
   "mimetype": "text/x-python",
   "name": "python",
   "nbconvert_exporter": "python",
   "pygments_lexer": "ipython2",
   "version": "2.7.16-final"
  }
 },
 "nbformat": 4,
 "nbformat_minor": 2
}